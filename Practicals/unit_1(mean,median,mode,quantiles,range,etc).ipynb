{
 "cells": [
  {
   "cell_type": "markdown",
   "metadata": {},
   "source": [
    "### Means"
   ]
  },
  {
   "cell_type": "code",
   "execution_count": 29,
   "metadata": {},
   "outputs": [],
   "source": [
    "import numpy as np\n",
    "import matplotlib as ptl\n",
    "from sympy import symbols, Eq, solve"
   ]
  },
  {
   "cell_type": "markdown",
   "metadata": {},
   "source": [
    "### Problem 1 Find Arithmetic Average of give data.\n",
    "\n",
    "`Arithemetic Mean Formula`\n",
    "\n",
    "$$\n",
    "\\bar{x} = \\frac{\\sum{fx}}{\\sum{f}}\n",
    "$$\n",
    "\n",
    "`Arithemtic Mean with Provisional Mean`\n",
    "\n",
    "$$\n",
    "A.M = \\text{provisional mean} + \\frac{\\sum{fD}}{\\sum{f}}\n",
    "$$\n",
    "\n",
    "***Where***\n",
    "* $D$ = $x - p$\n",
    "\n",
    "---\n",
    " \n",
    " \n",
    "| Size of Items $( x )$ | Frequencies $( f )$ | $fx$ |\n",
    "|---------------|-------------|----------------------|\n",
    "| 2 | 3 | $3 * 2 = 6$ |\n",
    "| 3 | 8 | $3 * 8 = 24$ |\n",
    "| 4 | 10 |$4 * 10 = 40$ |\n",
    "| 5 | 12 |$5 * 12 = 60$ |\n",
    "| 6 | 16 |$6 * 16 = 96$ |\n",
    "| 7 | 14 |$7 * 14 = 98$ |\n",
    "| 8 | 10 |$8 * 10 = 8$ |\n",
    "| 9 | 8 |$9 * 8 = 72$ |\n",
    "| 10 | 17 |$10 * 17 = 170$ |\n",
    "| 11 | 5 |$11 * 5 = 55$ |\n",
    "| 12 | 4 |$12 * 4 = 48$ |\n",
    "| 13 | 1 |$13 * 1 = 13$ |\n",
    "|  | $\\sum{f = 10.8}$ | $\\sum{Fx = 762}$ |"
   ]
  },
  {
   "cell_type": "code",
   "execution_count": 11,
   "metadata": {},
   "outputs": [
    {
     "name": "stdout",
     "output_type": "stream",
     "text": [
      "Arithmetic Mean::  7.055555555555555\n"
     ]
    }
   ],
   "source": [
    "size_of_items = np.array([2,3,4,5,6,7,8,9,10,11,12,13])\n",
    "frequencies = np.array([3,8,10,12,16,14,10,8,17,5,4,1])\n",
    "\n",
    "weighted_sum  = np.sum(size_of_items * frequencies) # 762\n",
    "total_frequency  = np.sum(frequencies) # 108\n",
    "\n",
    "arithemetic_mean = weighted_sum  / total_frequency\n",
    "\n",
    "print(\"Arithmetic Mean:: \", arithemetic_mean)"
   ]
  },
  {
   "cell_type": "code",
   "execution_count": 23,
   "metadata": {},
   "outputs": [
    {
     "name": "stdout",
     "output_type": "stream",
     "text": [
      "Arithmetic Means::  7.055555555555555\n"
     ]
    }
   ],
   "source": [
    "provisional = 7\n",
    "size_of_items = np.array([2,3,4,5,6,7,8,9,10,11,12,13])\n",
    "frequencies = np.array([3,8,10,12,16,14,10,8,17,5,4,1])\n",
    "deviation = np.array(size_of_items - provisional)\n",
    "\n",
    "frequencies_with_deviation = np.sum(frequencies * deviation)\n",
    "total_frequency = np.sum(frequencies)\n",
    "\n",
    "arithemetic_mean = provisional + (frequencies_with_deviation / total_frequency)\n",
    "\n",
    "print(\"Arithmetic Means:: \", arithemetic_mean)\n"
   ]
  },
  {
   "cell_type": "markdown",
   "metadata": {},
   "source": [
    "## Problem 2. Find the value of p if the mean of the follwing distribution is 7.5.\n",
    "\n",
    "| $x1$ | $f1$ | $Fx$ |\n",
    "|------|------|------|\n",
    "| 3 | 6 | 18 |\n",
    "| 5 | 8 | 40 |\n",
    "|7 | 15 | 105 |\n",
    "| 9 | $p$ | $9p$ |\n",
    "| 11 | 8 | 88 |\n",
    "| 13 | 4 | 52 |\n",
    "| | $p + 41$ |  $303 + 9p$|\n",
    "\n",
    "$$\n",
    "A.M = \\frac{\\sum{303 + 9p}}{\\sum{p + 41}}\n",
    "$$\n",
    "\n",
    "$$\n",
    "7.5(41 + p) = 303 + 9p\n",
    "$$\n",
    "\n",
    "$$\n",
    "307.5 + 7.5p = 303 + 9p\n",
    "$$\n",
    "\n",
    "$$\n",
    "307.5 - 303 = 9p - 7.5p\n",
    "$$\n",
    "\n",
    "$$\n",
    "4.5 = 1.5p\n",
    "$$\n",
    "\n",
    "$$\n",
    "\\frac{4.5}{1.5} = p\n",
    "$$\n",
    "\n",
    "$$\n",
    "p = 3\n",
    "$$\n"
   ]
  },
  {
   "cell_type": "code",
   "execution_count": null,
   "metadata": {},
   "outputs": [
    {
     "name": "stdout",
     "output_type": "stream",
     "text": [
      "Arithemetic Mean::  3.00000000000000\n"
     ]
    }
   ],
   "source": [
    "distribution = 7.5\n",
    "p = symbols(\"p\")\n",
    "\n",
    "size_of_items = np.array([3, 5, 7, 9, 11, 13])\n",
    "frequencies = np.array([6, 8, 15, p , 8, 4])\n",
    "\n",
    "weighted_sum = np.sum(size_of_items * frequencies) #  303 + 9p\n",
    "total_frequency = np.sum(frequencies) # p + 41\n",
    "\n",
    "mean_eq = Eq(weighted_sum / total_frequency, distribution)\n",
    "\n",
    "arithemetic_mean = solve(mean_eq,p)\n",
    "\n",
    "print(\"Arithemetic Mean:: \",arithemetic_mean[0])"
   ]
  },
  {
   "cell_type": "markdown",
   "metadata": {},
   "source": [
    "### Find the missing Frequencies in the follwing distibution if it is known that the mean of the distribution is 1.46.\n",
    "\n",
    "| $x1$ | $f1$ | $Fx$ |\n",
    "|------|------|------|\n",
    "| 0 | 46 | 0 |\n",
    "| 1 | $f1$ | $f1$ |\n",
    "|2| $f2$ | $f2$ |\n",
    "| 3 | 25 | 75 |\n",
    "| 4 | 10 | 40 |\n",
    "| 5 | 5 | 25 |\n",
    "| $\\text{total}$ | $f1 + f2 + 86$ |  $140 + f1 + 2f2$|\n",
    "\n",
    "\n",
    "$$\n",
    "\\text{We have } \\sum{f_1} = 200\n",
    "\\\\[10pt]\n",
    "200 = f_1 + f_2 + 86\n",
    "\\\\[10pt]\n",
    "f_1 + f_2 = 200 - 86\n",
    "\\\\[10pt]\n",
    "f_1 + f_2 = 114 \\quad \\Rightarrow \\quad (1)\n",
    "\\\\[20pt]\n",
    "\\bar{x} = 1.46\n",
    "\\\\[10pt]\n",
    "1.46 = \\frac{\\sum{f_i x_i}}{\\sum{f_i}}\n",
    "\\\\[10pt]\n",
    "1.46 = \\frac{140 + f_1 + 2f_2}{200}\n",
    "\\\\[10pt]\n",
    "1.46 \\times 200 = 140 + f_1 + 2f_2\n",
    "\\\\[10pt]\n",
    "292 = 140 + f_1 + 2f_2\n",
    "\\\\[10pt]\n",
    "292 - 140 = f_1 + 2f_2\n",
    "\\\\[10pt]\n",
    "f_1 + 2f_2 = 152 \\quad \\Rightarrow \\quad (2)\n",
    "\\\\[20pt]\n",
    "\\text{Solving equations (1) and (2):}\n",
    "\\\\[10pt]\n",
    "f_1 = 76, \\quad f_2 = 38\n",
    "$$"
   ]
  },
  {
   "cell_type": "code",
   "execution_count": 72,
   "metadata": {},
   "outputs": [
    {
     "name": "stdout",
     "output_type": "stream",
     "text": [
      "F1::  76.0000000000000 \n",
      " F2::  38.0000000000000\n"
     ]
    }
   ],
   "source": [
    "f1,f2 = symbols(\"f1 f2\")\n",
    "mean_value = 1.46\n",
    "total_frequency_given = 200\n",
    "\n",
    "size_of_items = np.array([0, 1, 2, 3, 4, 5])\n",
    "frequencies = np.array([46, f1, f2, 25, 10, 5])\n",
    "\n",
    "total_frequency = np.sum(frequencies) # f1 + f2 + 86\n",
    "weighted_sum = np.sum(size_of_items * frequencies) # 140 + f1 + 2f2\n",
    "\n",
    "eq1 = Eq(total_frequency, total_frequency_given)\n",
    "eq2 = Eq(weighted_sum, mean_value * total_frequency_given)\n",
    "\n",
    "\n",
    "solution = solve((eq1, eq2), (f1, f2))\n",
    "\n",
    "print(\"F1:: \",solution[f1], \"\\n F2:: \",solution[f2])"
   ]
  }
 ],
 "metadata": {
  "kernelspec": {
   "display_name": ".venv",
   "language": "python",
   "name": "python3"
  },
  "language_info": {
   "codemirror_mode": {
    "name": "ipython",
    "version": 3
   },
   "file_extension": ".py",
   "mimetype": "text/x-python",
   "name": "python",
   "nbconvert_exporter": "python",
   "pygments_lexer": "ipython3",
   "version": "3.13.0"
  }
 },
 "nbformat": 4,
 "nbformat_minor": 2
}
