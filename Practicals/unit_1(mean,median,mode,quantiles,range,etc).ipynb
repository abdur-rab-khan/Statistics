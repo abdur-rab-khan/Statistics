{
 "cells": [
  {
   "cell_type": "markdown",
   "metadata": {},
   "source": [
    "[Go to mean](#mean)\n",
    "\n",
    "\n",
    "[Go to median](#median)"
   ]
  },
  {
   "cell_type": "markdown",
   "metadata": {},
   "source": [
    "### Means\n",
    "<a href=\"#mean\"></a>"
   ]
  },
  {
   "cell_type": "code",
   "execution_count": 13,
   "metadata": {},
   "outputs": [],
   "source": [
    "import numpy as np\n",
    "import matplotlib as ptl\n",
    "from sympy import symbols, Eq, solve"
   ]
  },
  {
   "cell_type": "markdown",
   "metadata": {},
   "source": [
    "### Problem 1 Find Arithmetic Average of give data.\n",
    "\n",
    "`Arithemetic Mean Formula`\n",
    "\n",
    "$$\n",
    "\\bar{x} = \\frac{\\sum{fx}}{\\sum{f}}\n",
    "$$\n",
    "\n",
    "`Arithemtic Mean with Provisional Mean`\n",
    "\n",
    "$$\n",
    "A.M = \\text{provisional mean} + \\frac{\\sum{fD}}{\\sum{f}}\n",
    "$$\n",
    "\n",
    "***Where***\n",
    "* $D$ = $x - p$\n",
    "\n",
    "---\n",
    " \n",
    " \n",
    "| Size of Items $( x )$ | Frequencies $( f )$ | $fx$ |\n",
    "|---------------|-------------|----------------------|\n",
    "| 2 | 3 | $3 * 2 = 6$ |\n",
    "| 3 | 8 | $3 * 8 = 24$ |\n",
    "| 4 | 10 |$4 * 10 = 40$ |\n",
    "| 5 | 12 |$5 * 12 = 60$ |\n",
    "| 6 | 16 |$6 * 16 = 96$ |\n",
    "| 7 | 14 |$7 * 14 = 98$ |\n",
    "| 8 | 10 |$8 * 10 = 8$ |\n",
    "| 9 | 8 |$9 * 8 = 72$ |\n",
    "| 10 | 17 |$10 * 17 = 170$ |\n",
    "| 11 | 5 |$11 * 5 = 55$ |\n",
    "| 12 | 4 |$12 * 4 = 48$ |\n",
    "| 13 | 1 |$13 * 1 = 13$ |\n",
    "|  | $\\sum{f = 10.8}$ | $\\sum{Fx = 762}$ |"
   ]
  },
  {
   "cell_type": "code",
   "execution_count": 3,
   "metadata": {},
   "outputs": [
    {
     "name": "stdout",
     "output_type": "stream",
     "text": [
      "Arithmetic Mean::  7.055555555555555\n"
     ]
    }
   ],
   "source": [
    "size_of_items = np.array([2,3,4,5,6,7,8,9,10,11,12,13])\n",
    "frequencies = np.array([3,8,10,12,16,14,10,8,17,5,4,1])\n",
    "\n",
    "weighted_sum  = np.sum(size_of_items * frequencies) # 762\n",
    "total_frequency  = np.sum(frequencies) # 108\n",
    "\n",
    "arithemetic_mean = weighted_sum  / total_frequency\n",
    "\n",
    "print(\"Arithmetic Mean:: \", arithemetic_mean)"
   ]
  },
  {
   "cell_type": "code",
   "execution_count": 4,
   "metadata": {},
   "outputs": [
    {
     "name": "stdout",
     "output_type": "stream",
     "text": [
      "Arithmetic Means::  7.055555555555555\n"
     ]
    }
   ],
   "source": [
    "provisional = 7\n",
    "size_of_items = np.array([2,3,4,5,6,7,8,9,10,11,12,13])\n",
    "frequencies = np.array([3,8,10,12,16,14,10,8,17,5,4,1])\n",
    "deviation = np.array(size_of_items - provisional)\n",
    "\n",
    "frequencies_with_deviation = np.sum(frequencies * deviation)\n",
    "total_frequency = np.sum(frequencies)\n",
    "\n",
    "arithemetic_mean = provisional + (frequencies_with_deviation / total_frequency)\n",
    "\n",
    "print(\"Arithmetic Means:: \", arithemetic_mean)\n"
   ]
  },
  {
   "cell_type": "markdown",
   "metadata": {},
   "source": [
    "## Problem 2. Find the value of p if the mean of the follwing distribution is 7.5.\n",
    "\n",
    "| $x1$ | $f1$ | $Fx$ |\n",
    "|------|------|------|\n",
    "| 3 | 6 | 18 |\n",
    "| 5 | 8 | 40 |\n",
    "|7 | 15 | 105 |\n",
    "| 9 | $p$ | $9p$ |\n",
    "| 11 | 8 | 88 |\n",
    "| 13 | 4 | 52 |\n",
    "| | $p + 41$ |  $303 + 9p$|\n",
    "\n",
    "$$\n",
    "A.M = \\frac{\\sum{303 + 9p}}{\\sum{p + 41}}\n",
    "$$\n",
    "\n",
    "$$\n",
    "7.5(41 + p) = 303 + 9p\n",
    "$$\n",
    "\n",
    "$$\n",
    "307.5 + 7.5p = 303 + 9p\n",
    "$$\n",
    "\n",
    "$$\n",
    "307.5 - 303 = 9p - 7.5p\n",
    "$$\n",
    "\n",
    "$$\n",
    "4.5 = 1.5p\n",
    "$$\n",
    "\n",
    "$$\n",
    "\\frac{4.5}{1.5} = p\n",
    "$$\n",
    "\n",
    "$$\n",
    "\\\\[20pt]\n",
    "\\boxed{p = 3}\n",
    "$$\n"
   ]
  },
  {
   "cell_type": "code",
   "execution_count": null,
   "metadata": {},
   "outputs": [
    {
     "name": "stdout",
     "output_type": "stream",
     "text": [
      "Arithemetic Mean::  3.00000000000000\n"
     ]
    }
   ],
   "source": [
    "distribution = 7.5\n",
    "p = symbols(\"p\")\n",
    "\n",
    "size_of_items = np.array([3, 5, 7, 9, 11, 13])\n",
    "frequencies = np.array([6, 8, 15, p , 8, 4])\n",
    "\n",
    "weighted_sum = np.sum(size_of_items * frequencies) #  303 + 9p\n",
    "total_frequency = np.sum(frequencies) # p + 41\n",
    "\n",
    "mean_eq = Eq(weighted_sum / total_frequency, distribution)\n",
    "\n",
    "arithemetic_mean = solve(mean_eq,p)\n",
    "\n",
    "print(\"Arithemetic Mean:: \",arithemetic_mean[0])"
   ]
  },
  {
   "cell_type": "markdown",
   "metadata": {},
   "source": [
    "### Find the missing Frequencies in the follwing distibution if it is known that the mean of the distribution is 1.46.\n",
    "\n",
    "| $x1$ | $f1$ | $Fx$ |\n",
    "|------|------|------|\n",
    "| 0 | 46 | 0 |\n",
    "| 1 | $f1$ | $f1$ |\n",
    "|2| $f2$ | $f2$ |\n",
    "| 3 | 25 | 75 |\n",
    "| 4 | 10 | 40 |\n",
    "| 5 | 5 | 25 |\n",
    "| $\\text{total}$ | $f1 + f2 + 86$ |  $140 + f1 + 2f2$|\n",
    "\n",
    "\n",
    "$$\n",
    "\\text{We have } \\sum{f_1} = 200\n",
    "\\\\[10pt]\n",
    "200 = f_1 + f_2 + 86\n",
    "\\\\[10pt]\n",
    "f_1 + f_2 = 200 - 86\n",
    "\\\\[10pt]\n",
    "f_1 + f_2 = 114 \\quad \\Rightarrow \\quad \\quad (1)\n",
    "\\\\[20pt]\n",
    "\\bar{x} = 1.46\n",
    "\\\\[10pt]\n",
    "1.46 = \\frac{\\sum{f_i x_i}}{\\sum{f_i}}\n",
    "\\\\[10pt]\n",
    "1.46 = \\frac{140 + f_1 + 2f_2}{200}\n",
    "\\\\[10pt]\n",
    "1.46 \\times 200 = 140 + f_1 + 2f_2\n",
    "\\\\[10pt]\n",
    "292 = 140 + f_1 + 2f_2\n",
    "\\\\[10pt]\n",
    "292 - 140 = f_1 + 2f_2\n",
    "\\\\[10pt]\n",
    "f_1 + 2f_2 = 152 \\quad \\Rightarrow \\quad \\quad (2)\n",
    "\\\\[20pt]\n",
    "\\text{Solving equations (1) and (2):}\n",
    "\\\\[10pt]\n",
    "\n",
    "\\boxed{f_1 = 76, \\quad \\quad f_2 = 38}\n",
    "$$"
   ]
  },
  {
   "cell_type": "code",
   "execution_count": null,
   "metadata": {},
   "outputs": [
    {
     "name": "stdout",
     "output_type": "stream",
     "text": [
      "F1::  76.0000000000000 \tF2::  38.0000000000000\n"
     ]
    }
   ],
   "source": [
    "f1,f2 = symbols(\"f1 f2\")\n",
    "mean_value = 1.46\n",
    "total_frequency_given = 200\n",
    "\n",
    "size_of_items = np.array([0, 1, 2, 3, 4, 5])\n",
    "frequencies = np.array([46, f1, f2, 25, 10, 5])\n",
    "\n",
    "total_frequency = np.sum(frequencies) # f1 + f2 + 86\n",
    "weighted_sum = np.sum(size_of_items * frequencies) # 140 + f1 + 2f2\n",
    "\n",
    "eq1 = Eq(total_frequency, total_frequency_given)\n",
    "eq2 = Eq(weighted_sum, mean_value * total_frequency_given)\n",
    "\n",
    "\n",
    "solution = solve((eq1, eq2), (f1, f2))\n",
    "\n",
    "print(\"F1:: \",solution[f1], \"\\tF2:: \",solution[f2])"
   ]
  },
  {
   "cell_type": "code",
   "execution_count": null,
   "metadata": {},
   "outputs": [
    {
     "name": "stdout",
     "output_type": "stream",
     "text": [
      "Provisional Mean: 19.819266055045873\n"
     ]
    }
   ],
   "source": [
    "central_value = np.array([1.5, 4.5, 7.5, 10.5, 13.5, 16.5, 19.5, 22.5, 25.5, 28.5, 31.5, 34.5, 37.5, 40.5, 43.5])\n",
    "frequencies = np.array([4, 4, 32, 81, 135, 198, 210, 144, 128, 73, 50, 13, 12, 5, 1])\n",
    "\n",
    "\n",
    "sum_weighted = np.sum(central_value * frequencies)\n",
    "sum_frequencies = np.sum(frequencies)\n",
    "\n",
    "# Compute provisional mean (weighted mean)\n",
    "provisional_mean = sum_weighted / sum_frequencies\n",
    "\n",
    "print(\"Provisional Mean:\", provisional_mean)"
   ]
  },
  {
   "cell_type": "markdown",
   "metadata": {},
   "source": [
    "#### Find the missing frequency. it is known that the mean of the frequency distribution is 47.2\n",
    "\n",
    "| Class Interval | Central Value $xi$ | frequncy $f$ | $D$ | $fD$ |\n",
    "|----------------|--------------------|---------------|----|------|\n",
    "| 40-43 | 41.5 | 31 |  -6 | -186 |\n",
    "| 43 - 46 | 44.5 | 58 |  -3 | -174 |\n",
    "| 46 - 49 | 47.5 | 60 |  0 | 0 |\n",
    "| 49 - 52 | 50.5 | $f$ |  3 | 3f |\n",
    "| 52 - 55 | 53.5 | 27 |  6 | 162 |\n",
    "| Total | | $\\sum{fi = f + 176}$ |   | $\\sum{fd = 3f - 198}$ |\n",
    "\n",
    "\n",
    "$$\n",
    "\\text{we have }\n",
    "\\\\\n",
    "\\sum{fi = 176 + f}\n",
    "\\\\[5pt]\n",
    "\\sum{fd = 3f - 198}\n",
    "\\\\[20pt]\n",
    "\\bar{x} = P.M + \\frac{\\sum{fd}}{\\sum{fi}}\n",
    "\\\\[10pt]\n",
    "\\bar{x} = 47.5 + \\frac{3f - 198}{f + 176}\n",
    "\\\\[10pt]\n",
    "47.2 = 47.5 + \\frac{3f - 198}{f + 176}\n",
    "\\\\[10pt]\n",
    "-0.3 = \\frac{3f - 198}{f + 176}\n",
    "\\\\[10pt]\n",
    "(-0.3){f + 176} = 3f - 198\n",
    "\\\\[10pt]\n",
    "-0.3f - 52.8 = 3f - 198\n",
    "\\\\[10pt]\n",
    "-52.8 + 198 = 0.3f + 3f\n",
    "\\\\[10pt]\n",
    "145 = 3.3f\n",
    "\\\\[10pt]\n",
    "\\boxed{f = 44}\n",
    "$$"
   ]
  },
  {
   "cell_type": "code",
   "execution_count": null,
   "metadata": {},
   "outputs": [
    {
     "name": "stdout",
     "output_type": "stream",
     "text": [
      "Total Sum of frequency::  f + 176\n",
      "Total Frequency Distribution is::  3*f - 198\n",
      "Mean value is::  44.0000000000000\n"
     ]
    }
   ],
   "source": [
    "f = symbols(\"f\")\n",
    "d = 47.2\n",
    "\n",
    "central_value = np.array([41.5, 44.5, 47.5, 50.5, 53.5])\n",
    "frequencies = np.array([31, 58, 60, f, 27])\n",
    "\n",
    "total_frequency = np.sum(frequencies)\n",
    "distribution = np.round(central_value - d).astype(int)\n",
    "freq_distribution = np.sum(frequencies * distribution)\n",
    "\n",
    "\n",
    "print(\"Total Sum of frequency:: \", total_frequency)\n",
    "print(\"Total Frequency Distribution is:: \", freq_distribution)\n",
    "\n",
    "eq = 47.5 + (freq_distribution / total_frequency) - d\n",
    "solution = solve(eq, f)  # Solve for f\n",
    "\n",
    "print(\"Mean value is:: \",solution[0])"
   ]
  },
  {
   "cell_type": "markdown",
   "metadata": {},
   "source": [
    "## Median\n",
    "<a href=\"#median\"></a>"
   ]
  },
  {
   "cell_type": "code",
   "execution_count": null,
   "metadata": {},
   "outputs": [
    {
     "name": "stdout",
     "output_type": "stream",
     "text": [
      "0      2\n",
      "1      4\n",
      "2      6\n",
      "3      8\n",
      "4     10\n",
      "5     12\n",
      "6     14\n",
      "7     16\n",
      "8     18\n",
      "9     20\n",
      "10    22\n",
      "11    24\n",
      "dtype: int64\n"
     ]
    }
   ],
   "source": []
  }
 ],
 "metadata": {
  "kernelspec": {
   "display_name": ".venv",
   "language": "python",
   "name": "python3"
  },
  "language_info": {
   "codemirror_mode": {
    "name": "ipython",
    "version": 3
   },
   "file_extension": ".py",
   "mimetype": "text/x-python",
   "name": "python",
   "nbconvert_exporter": "python",
   "pygments_lexer": "ipython3",
   "version": "3.13.0"
  }
 },
 "nbformat": 4,
 "nbformat_minor": 2
}
