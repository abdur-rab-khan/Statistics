{
 "cells": [
  {
   "cell_type": "markdown",
   "metadata": {},
   "source": [
    "> **Central Tendency** refers to the measure used to determine the \"center\" of the distribution of a data\n",
    "* Types of Central Tendency\n",
    "1. Mean\n",
    "2. Median\n",
    "3. Mode"
   ]
  },
  {
   "cell_type": "markdown",
   "metadata": {},
   "source": [
    "**Suppose** We have data {1, 2, 3, 4, 5, 6, 7}.\n",
    "\n",
    "1. **Mean(Average)**\n",
    "    * We use two types of data\n",
    "        * Population data(N). --> `μ` this symbole is used for population distribution.\n",
    "            * Formula is μ = ( ΣXi ) / N\n",
    "            * Where:  \n",
    "                - μ = Population mean  \n",
    "                - Xi = Each individual value in the population  \n",
    "                - N = Total number of values in the population\n",
    "        \n",
    "        * Sample Data (n). --> `x̄` this symbole is used for Sample Data.\n",
    "            * Formula is x̄ = ( ΣXi ) / n\n",
    "            * Where:  \n",
    "                - x̄ = Sample mean  \n",
    "                - Xi = Each individual value in the sample  \n",
    "                - n = Total number of values in the sample \n",
    "                \n",
    "2. **Median()**\n",
    "    `Suppose ` x = [1,2,2,3,4,5,100]\n",
    "    μ = 16.71 --> Because of adding 100 in the data set we got huge difference on the means and this large number (100) is also called outlier.\n",
    "    * Using Mode we can prevent from the outlier.\n",
    "    * There are three steps in median.\n",
    "        1. Sort all the numbers.\n",
    "        2. Find the central element.\n",
    "            * Two find the we have to choice.\n",
    "                > The length of data set is 7 which is odd we can easily find central element which is `3` suppose we have one more 101 than become even.\n",
    "                * Odd Length\n",
    "                * Even Length\n",
    "                    * To find central element we have to number `[3, 4]`.\n",
    "                    * ( 3 + 4 ) / 2 = `3.5`.\n",
    "\n",
    "3. **Mode()**\n",
    "    * In mode we use most frequent number.\n",
    "    * Mode is most commonly used in categorical features.\n",
    "        * Example Age = [23,45,21,2,-,-], Weight = [-, -, 78, 90, 82] Gender = [M,F] \n",
    "        * If we want to fill the missing value we have to calculate the mean value and fill it.\n",
    "        * If we have outlier in the data so we have to use median.\n",
    "        * In the case of Gender we can use Mode.\n",
    "\n",
    "**Use Cases**"
   ]
  },
  {
   "cell_type": "code",
   "execution_count": 24,
   "metadata": {},
   "outputs": [
    {
     "name": "stdout",
     "output_type": "stream",
     "text": [
      "Mean of (1 + 2 + 3 + 4 + 5 / len(data)) using Population Data:  2.8333333333333335\n",
      "Mean of (1 + 2 + 3 + 4 + 5 + 100 / len(data)) using Population Data:  16.714285714285715\n",
      "Median is: 3.0\n",
      "Mode: 5\n"
     ]
    }
   ],
   "source": [
    "import pandas as pd\n",
    "\n",
    "data = [1,2,2,3,4,5]\n",
    "\n",
    "means = pd.Series(data).mean()\n",
    "\n",
    "print(f\"Mean of (1 + 2 + 3 + 4 + 5 / len(data)) using Population Data: \", means)\n",
    "\n",
    "data.append(100)\n",
    "\n",
    "means = pd.Series(data).mean()\n",
    "\n",
    "print(f\"Mean of (1 + 2 + 3 + 4 + 5 + 100 / len(data)) using Population Data: \", means) # Because of adding 100 in the data set we see how it does not perform well.\n",
    "\n",
    "median = pd.Series(data).median()\n",
    "print(f\"Median is: {median}\")\n",
    "\n",
    "data = [1,2,2,3,3,3,4,5,5,5,5]\n",
    "\n",
    "mode = pd.Series(data).mode()\n",
    "print(f\"Mode: {mode[0]}\")"
   ]
  }
 ],
 "metadata": {
  "kernelspec": {
   "display_name": ".venv",
   "language": "python",
   "name": "python3"
  },
  "language_info": {
   "codemirror_mode": {
    "name": "ipython",
    "version": 3
   },
   "file_extension": ".py",
   "mimetype": "text/x-python",
   "name": "python",
   "nbconvert_exporter": "python",
   "pygments_lexer": "ipython3",
   "version": "3.13.0"
  }
 },
 "nbformat": 4,
 "nbformat_minor": 2
}
