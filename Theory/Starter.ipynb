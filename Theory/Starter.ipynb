{
 "cells": [
  {
   "cell_type": "markdown",
   "metadata": {},
   "source": [
    "# Statics\n",
    "\n",
    "**Statics** is the science of collecting, organizing and analyzing data.\n",
    "\n",
    "`Data` : \"Facts or pieces of information\"\n",
    "\n",
    "`Eg:`\n",
    "    * Hight of studentds in a class --> 145cm, 178,cm eg.\n",
    "    * Gender of person visting a doctor.\n",
    "\n",
    "- There are two types of statics\n",
    "    * Descriptive Stats\n",
    "        * It consists of organizing and summarizing of data.\n",
    "        * `Topics`\n",
    "            * Measure of central tendency --> (mean, median, mode).\n",
    "            * Measure of dispersion (variance, standard deviation).\n",
    "            * Different type of disk of data.\n",
    "            * Histogram, probability density function, probability mass function.\n",
    "                * Using probabilty density function we can check which type distribution are data is.\n",
    "                    1. Normal Distribution.\n",
    "                    2. Long Normal Distribution.\n",
    "    * Infrential Stats\n",
    "        * It consists of using Data you have measured to from conclusion.\n",
    "        * `Topcis`\n",
    "            * Hypothesis Testing\n",
    "                * z-Test\n",
    "                * t-Test\n",
    "                * Chi-Square-Test\n",
    "                * Anova-Test\n",
    "\n",
    "Let's consider there are 20 classrooms in a college and let's say you have collected the age of students in on class.\n",
    "\n",
    "* What types of Questions can ask using both Descriptive and Infrential Stats.\n",
    "    * Descriptive Stats\n",
    "        * What is the common ages in your stats class? --> Find using mean(age).\n",
    "    * Infrential Stats\n",
    "        * Are the ages of students in the classroom similar to the ages of  the student in the university.\n",
    "\n",
    "<img src=\"../img/output.png\" height=\"480px\" width=\"720px\" alt=\"Photo\">"
   ]
  },
  {
   "cell_type": "markdown",
   "metadata": {},
   "source": [
    "## Population and Sample\n",
    "\n",
    "* `Population(N)`: The group that we are intrested in studing.\n",
    "* `Sample(n)`: It is the subset of the population.\n",
    "\n",
    "* `Example`\n",
    "    * Exit Poll\n",
    "        * In the Exit poll we ask people about there vote all the data collected is going to be `population` and we sample some people in some region to ask about vote which is going to be `sample`.\n",
    "\n",
    "### Sampling Technique\n",
    "> The goal of the sampling is to create a sample that is represent of the entrie population.\n",
    "* Types of sampling\n",
    "    1. Simple random Sampling\n",
    "        * When performing simple random sampling, every member of the population has an equal change of being selected.\n",
    "    2. Stratified Sampling\n",
    "        * Non overlapping group.\n",
    "        * When we get the data only from male or only from female which does not have to overlapping which is going to be Stratified Sampling.\n",
    "    3. Systematic Sampling\n",
    "        * Getting the data from nth person.\n",
    "    4. Convenience Sampling\n",
    "        * Volentary Response Sampling. We get the data only from the person which have the knowleged of that info.\n",
    "        * Eg: We want to get the sample in medical field so we get only data from the person which have knowleged to medical field like doctor."
   ]
  },
  {
   "cell_type": "markdown",
   "metadata": {},
   "source": [
    "## Variable and it's Type?\n",
    "> Variable is a property that can take on many values.\n",
    "\n",
    "eg age = 12,23,22,1,2,52,5 height = 152,169,111\n",
    "\n",
    "* Types of Variable\n",
    "    * Quantitative Variable\n",
    "        1. Discrete Varible (Value in the form of Whole number)\n",
    "            * Eg. Number of back account, Member in a family\n",
    "        2. Continous Variable (Cannot be in whole number)\n",
    "            * Eg. Height = 172.5, Wight = 190,\n",
    "    * Qualitative Variable\n",
    "        * Here we classified the data based on some properties like in gender we divide in the category of male and female."
   ]
  }
 ],
 "metadata": {
  "language_info": {
   "name": "python"
  }
 },
 "nbformat": 4,
 "nbformat_minor": 2
}
